{
 "cells": [
  {
   "cell_type": "markdown",
   "metadata": {},
   "source": [
    "# Titanic : Underutilization of its Lifeboats\n",
    "\n",
    "## Table of Contents\n",
    "<ul>\n",
    "<li><a href=\"#intro\">Introduction</a></li>\n",
    "<li><a href=\"#wrangling\">Data Wrangling</a></li>\n",
    "<li><a href=\"#eda\">Exploratory Data Analysis</a></li>\n",
    "<li><a href=\"#conclusions\">Conclusions</a></li>\n",
    "</ul>"
   ]
  },
  {
   "cell_type": "markdown",
   "metadata": {},
   "source": [
    "<a id='intro'></a>\n",
    "## Introduction\n",
    "\n",
    "The Titanic was famous, at least in the movies, for underutilizing the already too few lifeboats. So my question is, does the data support that claim?\n",
    "\n",
    "However I noticed many flaws in the data. The csv file provided by Udacity was not a full list of passengers on the Titanic. I thought it may be only a sample, but it seems strange to use a sample of 892 for a population of 1,309. So I found a more complete list of passengers, called titanic3, from UV's (Vanderbilt University) Department of Biostatistics http://biostat.mc.vanderbilt.edu/wiki/Main/DataSets. While it is not a complete list (there were 1,317 passengers and 1,126 crew members according to encyclopedia-titanica.org), it is the most complete I could find without making my own list. It contains the same data as Udacity's list, but with more passengers and additional data. A more thorough explanation of how they compiled this data and other pertinent information can be found here http://biostat.mc.vanderbilt.edu/wiki/pub/Main/DataSets/titanic.html and here http://biostat.mc.vanderbilt.edu/wiki/pub/Main/DataSets/titanic3info.txt."
   ]
  },
  {
   "cell_type": "code",
   "execution_count": 1,
   "metadata": {
    "collapsed": false
   },
   "outputs": [
    {
     "ename": "error",
     "evalue": "[Errno 10053] 確立された接続がホスト コンピューターのソウトウェアによって中止されました。",
     "output_type": "error",
     "traceback": [
      "\u001b[0;31m---------------------------------------------------------------------------\u001b[0m",
      "\u001b[0;31merror\u001b[0m                                     Traceback (most recent call last)",
      "\u001b[0;32m<ipython-input-1-e959749f1159>\u001b[0m in \u001b[0;36m<module>\u001b[0;34m()\u001b[0m\n\u001b[1;32m      9\u001b[0m \u001b[1;32mimport\u001b[0m \u001b[0mpylab\u001b[0m \u001b[1;32mas\u001b[0m \u001b[0mpl\u001b[0m\u001b[1;33m\u001b[0m\u001b[0m\n\u001b[1;32m     10\u001b[0m \u001b[0mplt\u001b[0m\u001b[1;33m.\u001b[0m\u001b[0mstyle\u001b[0m\u001b[1;33m.\u001b[0m\u001b[0muse\u001b[0m\u001b[1;33m(\u001b[0m\u001b[1;34m'seaborn-whitegrid'\u001b[0m\u001b[1;33m)\u001b[0m\u001b[1;33m\u001b[0m\u001b[0m\n\u001b[0;32m---> 11\u001b[0;31m \u001b[0mtitanic_list\u001b[0m \u001b[1;33m=\u001b[0m \u001b[0mpd\u001b[0m\u001b[1;33m.\u001b[0m\u001b[0mread_csv\u001b[0m\u001b[1;33m(\u001b[0m\u001b[1;34m'http://biostat.mc.vanderbilt.edu/wiki/pub/Main/DataSets/titanic3.csv'\u001b[0m\u001b[1;33m)\u001b[0m\u001b[1;33m\u001b[0m\u001b[0m\n\u001b[0m",
      "\u001b[0;32mC:\\Anaconda2\\lib\\site-packages\\pandas\\io\\parsers.pyc\u001b[0m in \u001b[0;36mparser_f\u001b[0;34m(filepath_or_buffer, sep, delimiter, header, names, index_col, usecols, squeeze, prefix, mangle_dupe_cols, dtype, engine, converters, true_values, false_values, skipinitialspace, skiprows, nrows, na_values, keep_default_na, na_filter, verbose, skip_blank_lines, parse_dates, infer_datetime_format, keep_date_col, date_parser, dayfirst, iterator, chunksize, compression, thousands, decimal, lineterminator, quotechar, quoting, escapechar, comment, encoding, dialect, tupleize_cols, error_bad_lines, warn_bad_lines, skipfooter, skip_footer, doublequote, delim_whitespace, as_recarray, compact_ints, use_unsigned, low_memory, buffer_lines, memory_map, float_precision)\u001b[0m\n\u001b[1;32m    653\u001b[0m                     skip_blank_lines=skip_blank_lines)\n\u001b[1;32m    654\u001b[0m \u001b[1;33m\u001b[0m\u001b[0m\n\u001b[0;32m--> 655\u001b[0;31m         \u001b[1;32mreturn\u001b[0m \u001b[0m_read\u001b[0m\u001b[1;33m(\u001b[0m\u001b[0mfilepath_or_buffer\u001b[0m\u001b[1;33m,\u001b[0m \u001b[0mkwds\u001b[0m\u001b[1;33m)\u001b[0m\u001b[1;33m\u001b[0m\u001b[0m\n\u001b[0m\u001b[1;32m    656\u001b[0m \u001b[1;33m\u001b[0m\u001b[0m\n\u001b[1;32m    657\u001b[0m     \u001b[0mparser_f\u001b[0m\u001b[1;33m.\u001b[0m\u001b[0m__name__\u001b[0m \u001b[1;33m=\u001b[0m \u001b[0mname\u001b[0m\u001b[1;33m\u001b[0m\u001b[0m\n",
      "\u001b[0;32mC:\\Anaconda2\\lib\\site-packages\\pandas\\io\\parsers.pyc\u001b[0m in \u001b[0;36m_read\u001b[0;34m(filepath_or_buffer, kwds)\u001b[0m\n\u001b[1;32m    390\u001b[0m     \u001b[0mcompression\u001b[0m \u001b[1;33m=\u001b[0m \u001b[0m_infer_compression\u001b[0m\u001b[1;33m(\u001b[0m\u001b[0mfilepath_or_buffer\u001b[0m\u001b[1;33m,\u001b[0m \u001b[0mcompression\u001b[0m\u001b[1;33m)\u001b[0m\u001b[1;33m\u001b[0m\u001b[0m\n\u001b[1;32m    391\u001b[0m     filepath_or_buffer, _, compression = get_filepath_or_buffer(\n\u001b[0;32m--> 392\u001b[0;31m         filepath_or_buffer, encoding, compression)\n\u001b[0m\u001b[1;32m    393\u001b[0m     \u001b[0mkwds\u001b[0m\u001b[1;33m[\u001b[0m\u001b[1;34m'compression'\u001b[0m\u001b[1;33m]\u001b[0m \u001b[1;33m=\u001b[0m \u001b[0mcompression\u001b[0m\u001b[1;33m\u001b[0m\u001b[0m\n\u001b[1;32m    394\u001b[0m \u001b[1;33m\u001b[0m\u001b[0m\n",
      "\u001b[0;32mC:\\Anaconda2\\lib\\site-packages\\pandas\\io\\common.pyc\u001b[0m in \u001b[0;36mget_filepath_or_buffer\u001b[0;34m(filepath_or_buffer, encoding, compression)\u001b[0m\n\u001b[1;32m    189\u001b[0m             \u001b[1;31m# Override compression based on Content-Encoding header\u001b[0m\u001b[1;33m\u001b[0m\u001b[1;33m\u001b[0m\u001b[0m\n\u001b[1;32m    190\u001b[0m             \u001b[0mcompression\u001b[0m \u001b[1;33m=\u001b[0m \u001b[1;34m'gzip'\u001b[0m\u001b[1;33m\u001b[0m\u001b[0m\n\u001b[0;32m--> 191\u001b[0;31m         \u001b[0mreader\u001b[0m \u001b[1;33m=\u001b[0m \u001b[0mBytesIO\u001b[0m\u001b[1;33m(\u001b[0m\u001b[0mreq\u001b[0m\u001b[1;33m.\u001b[0m\u001b[0mread\u001b[0m\u001b[1;33m(\u001b[0m\u001b[1;33m)\u001b[0m\u001b[1;33m)\u001b[0m\u001b[1;33m\u001b[0m\u001b[0m\n\u001b[0m\u001b[1;32m    192\u001b[0m         \u001b[1;32mreturn\u001b[0m \u001b[0mreader\u001b[0m\u001b[1;33m,\u001b[0m \u001b[0mencoding\u001b[0m\u001b[1;33m,\u001b[0m \u001b[0mcompression\u001b[0m\u001b[1;33m\u001b[0m\u001b[0m\n\u001b[1;32m    193\u001b[0m \u001b[1;33m\u001b[0m\u001b[0m\n",
      "\u001b[0;32mC:\\Anaconda2\\lib\\socket.pyc\u001b[0m in \u001b[0;36mread\u001b[0;34m(self, size)\u001b[0m\n\u001b[1;32m    353\u001b[0m             \u001b[1;32mwhile\u001b[0m \u001b[0mTrue\u001b[0m\u001b[1;33m:\u001b[0m\u001b[1;33m\u001b[0m\u001b[0m\n\u001b[1;32m    354\u001b[0m                 \u001b[1;32mtry\u001b[0m\u001b[1;33m:\u001b[0m\u001b[1;33m\u001b[0m\u001b[0m\n\u001b[0;32m--> 355\u001b[0;31m                     \u001b[0mdata\u001b[0m \u001b[1;33m=\u001b[0m \u001b[0mself\u001b[0m\u001b[1;33m.\u001b[0m\u001b[0m_sock\u001b[0m\u001b[1;33m.\u001b[0m\u001b[0mrecv\u001b[0m\u001b[1;33m(\u001b[0m\u001b[0mrbufsize\u001b[0m\u001b[1;33m)\u001b[0m\u001b[1;33m\u001b[0m\u001b[0m\n\u001b[0m\u001b[1;32m    356\u001b[0m                 \u001b[1;32mexcept\u001b[0m \u001b[0merror\u001b[0m\u001b[1;33m,\u001b[0m \u001b[0me\u001b[0m\u001b[1;33m:\u001b[0m\u001b[1;33m\u001b[0m\u001b[0m\n\u001b[1;32m    357\u001b[0m                     \u001b[1;32mif\u001b[0m \u001b[0me\u001b[0m\u001b[1;33m.\u001b[0m\u001b[0margs\u001b[0m\u001b[1;33m[\u001b[0m\u001b[1;36m0\u001b[0m\u001b[1;33m]\u001b[0m \u001b[1;33m==\u001b[0m \u001b[0mEINTR\u001b[0m\u001b[1;33m:\u001b[0m\u001b[1;33m\u001b[0m\u001b[0m\n",
      "\u001b[0;32mC:\\Anaconda2\\lib\\httplib.pyc\u001b[0m in \u001b[0;36mread\u001b[0;34m(self, amt)\u001b[0m\n\u001b[1;32m    595\u001b[0m         \u001b[1;31m# connection, and the user is reading more bytes than will be provided\u001b[0m\u001b[1;33m\u001b[0m\u001b[1;33m\u001b[0m\u001b[0m\n\u001b[1;32m    596\u001b[0m         \u001b[1;31m# (for example, reading in 1k chunks)\u001b[0m\u001b[1;33m\u001b[0m\u001b[1;33m\u001b[0m\u001b[0m\n\u001b[0;32m--> 597\u001b[0;31m         \u001b[0ms\u001b[0m \u001b[1;33m=\u001b[0m \u001b[0mself\u001b[0m\u001b[1;33m.\u001b[0m\u001b[0mfp\u001b[0m\u001b[1;33m.\u001b[0m\u001b[0mread\u001b[0m\u001b[1;33m(\u001b[0m\u001b[0mamt\u001b[0m\u001b[1;33m)\u001b[0m\u001b[1;33m\u001b[0m\u001b[0m\n\u001b[0m\u001b[1;32m    598\u001b[0m         \u001b[1;32mif\u001b[0m \u001b[1;32mnot\u001b[0m \u001b[0ms\u001b[0m \u001b[1;32mand\u001b[0m \u001b[0mamt\u001b[0m\u001b[1;33m:\u001b[0m\u001b[1;33m\u001b[0m\u001b[0m\n\u001b[1;32m    599\u001b[0m             \u001b[1;31m# Ideally, we would raise IncompleteRead if the content-length\u001b[0m\u001b[1;33m\u001b[0m\u001b[1;33m\u001b[0m\u001b[0m\n",
      "\u001b[0;32mC:\\Anaconda2\\lib\\socket.pyc\u001b[0m in \u001b[0;36mread\u001b[0;34m(self, size)\u001b[0m\n\u001b[1;32m    382\u001b[0m                 \u001b[1;31m# fragmentation issues on many platforms.\u001b[0m\u001b[1;33m\u001b[0m\u001b[1;33m\u001b[0m\u001b[0m\n\u001b[1;32m    383\u001b[0m                 \u001b[1;32mtry\u001b[0m\u001b[1;33m:\u001b[0m\u001b[1;33m\u001b[0m\u001b[0m\n\u001b[0;32m--> 384\u001b[0;31m                     \u001b[0mdata\u001b[0m \u001b[1;33m=\u001b[0m \u001b[0mself\u001b[0m\u001b[1;33m.\u001b[0m\u001b[0m_sock\u001b[0m\u001b[1;33m.\u001b[0m\u001b[0mrecv\u001b[0m\u001b[1;33m(\u001b[0m\u001b[0mleft\u001b[0m\u001b[1;33m)\u001b[0m\u001b[1;33m\u001b[0m\u001b[0m\n\u001b[0m\u001b[1;32m    385\u001b[0m                 \u001b[1;32mexcept\u001b[0m \u001b[0merror\u001b[0m\u001b[1;33m,\u001b[0m \u001b[0me\u001b[0m\u001b[1;33m:\u001b[0m\u001b[1;33m\u001b[0m\u001b[0m\n\u001b[1;32m    386\u001b[0m                     \u001b[1;32mif\u001b[0m \u001b[0me\u001b[0m\u001b[1;33m.\u001b[0m\u001b[0margs\u001b[0m\u001b[1;33m[\u001b[0m\u001b[1;36m0\u001b[0m\u001b[1;33m]\u001b[0m \u001b[1;33m==\u001b[0m \u001b[0mEINTR\u001b[0m\u001b[1;33m:\u001b[0m\u001b[1;33m\u001b[0m\u001b[0m\n",
      "\u001b[0;31merror\u001b[0m: [Errno 10053] 確立された接続がホスト コンピューターのソウトウェアによって中止されました。"
     ]
    }
   ],
   "source": [
    "%matplotlib inline\n",
    "import matplotlib.pyplot as plt\n",
    "from matplotlib.pyplot import *\n",
    "import matplotlib as mpl\n",
    "import pandas as pd\n",
    "import numpy as np\n",
    "import seaborn as sns\n",
    "import IPython\n",
    "import pylab as pl\n",
    "plt.style.use('seaborn-whitegrid')\n",
    "titanic_list = pd.read_csv('http://biostat.mc.vanderbilt.edu/wiki/pub/Main/DataSets/titanic3.csv')"
   ]
  },
  {
   "cell_type": "markdown",
   "metadata": {},
   "source": [
    "<a id='wrangling'></a>\n",
    "## Data Wrangling\n",
    "\n",
    "\n",
    "\n",
    "### General Properties\n",
    "\n",
    "First I want to look over the data to see what needs cleaning up."
   ]
  },
  {
   "cell_type": "code",
   "execution_count": null,
   "metadata": {
    "collapsed": true
   },
   "outputs": [],
   "source": [
    "titanic_list.head(100)"
   ]
  },
  {
   "cell_type": "markdown",
   "metadata": {},
   "source": [
    "Looking over the data, there are many columns which I do not need. I also notice some passangers have multiple boats in the boat column which I will have to clean up. I also would like to have the boat data reflect not just the boat number, but the type of boat. I would also like to remove NaN in the boat column with 'Unknown'."
   ]
  },
  {
   "cell_type": "markdown",
   "metadata": {},
   "source": [
    "### Data Cleaning (Replace this with more specific notes!)\n",
    "\n",
    "There were some survivors who did not have any data in the 'boat' column. Because some may have gotten in a lifeboat but for some reason the data was lost, I felt I should include them in graph. "
   ]
  },
  {
   "cell_type": "code",
   "execution_count": null,
   "metadata": {
    "collapsed": true
   },
   "outputs": [],
   "source": [
    "#Replaces boat values that have multiple boats with NaN.\n",
    "loc = 0\n",
    "for boat in titanic_list['boat']:\n",
    "    if not (boat == '1' or boat == '2' or boat == '3' or boat == '4' or boat == '5' or \n",
    "            boat == '6' or boat == '7' or boat == '8' or boat == '9' or boat == '10' or \n",
    "            boat == '11' or boat == '12' or boat == '13' or boat == '14' or boat == '15' or \n",
    "            boat == '16' or boat == 'A' or boat == 'B' or boat == 'C' or boat == 'D') and titanic_list['survived'][loc] == 1:\n",
    "        titanic_list.set_value(loc, 'boat', 'Survived but Method Unknown or not by Lifeboat')\n",
    "    loc = loc + 1"
   ]
  },
  {
   "cell_type": "code",
   "execution_count": null,
   "metadata": {
    "collapsed": true
   },
   "outputs": [],
   "source": [
    "# Delete data columns that I will not use\n",
    "del titanic_list['name']\n",
    "del titanic_list['age']\n",
    "del titanic_list['sibsp']\n",
    "del titanic_list['parch']\n",
    "del titanic_list['ticket']\n",
    "del titanic_list['fare']\n",
    "del titanic_list['cabin']\n",
    "del titanic_list['embarked']\n",
    "del titanic_list['home.dest']\n",
    "del titanic_list['sex']\n",
    "del titanic_list['body']"
   ]
  },
  {
   "cell_type": "code",
   "execution_count": null,
   "metadata": {
    "collapsed": true
   },
   "outputs": [],
   "source": [
    "# Replace the data's boat number's with the full name, number and location of the lifeboat.\n",
    "titanic_list['boat'] = titanic_list['boat'].replace('1', 'Cutter Boat 1 (starboard)')\n",
    "titanic_list['boat'] = titanic_list['boat'].replace('2', 'Cutter Boat 2 (port)')\n",
    "titanic_list['boat'] = titanic_list['boat'].replace('3', 'Clinker Boat 3 (starboard)')\n",
    "titanic_list['boat'] = titanic_list['boat'].replace('4', 'Clinker Boat 4 (port)')\n",
    "titanic_list['boat'] = titanic_list['boat'].replace('5', 'Clinker Boat 5 (starboard)')\n",
    "titanic_list['boat'] = titanic_list['boat'].replace('6', 'Clinker Boat 6 (port)')\n",
    "titanic_list['boat'] = titanic_list['boat'].replace('7', 'Clinker Boat 7 (starboard)')\n",
    "titanic_list['boat'] = titanic_list['boat'].replace('8', 'Clinker Boat 8 (port)')\n",
    "titanic_list['boat'] = titanic_list['boat'].replace('9', 'Clinker Boat 9 (starboard)')\n",
    "titanic_list['boat'] = titanic_list['boat'].replace('10','Clinker Boat 10 (port)')\n",
    "titanic_list['boat'] = titanic_list['boat'].replace('11','Clinker Boat 11 (starboard)')\n",
    "titanic_list['boat'] = titanic_list['boat'].replace('12','Clinker Boat 12 (port)')\n",
    "titanic_list['boat'] = titanic_list['boat'].replace('13','Clinker Boat 13 (starboard)')\n",
    "titanic_list['boat'] = titanic_list['boat'].replace('14','Clinker Boat 14 (port)')\n",
    "titanic_list['boat'] = titanic_list['boat'].replace('15','Clinker Boat 15 (starboard)')\n",
    "titanic_list['boat'] = titanic_list['boat'].replace('16','Clinker Boat 16 (port)')\n",
    "titanic_list['boat'] = titanic_list['boat'].replace('A', 'Collapsible Boat A (starboard)')\n",
    "titanic_list['boat'] = titanic_list['boat'].replace('B', 'Collapsible Boat B (port)')\n",
    "titanic_list['boat'] = titanic_list['boat'].replace('C', 'Collapsible Boat C (starboard)')\n",
    "titanic_list['boat'] = titanic_list['boat'].replace('D', 'Collapsible Boat D (port)')\n"
   ]
  },
  {
   "cell_type": "code",
   "execution_count": null,
   "metadata": {
    "collapsed": true
   },
   "outputs": [],
   "source": [
    "# Create a group database\n",
    "titanic_list_fm_group_s = titanic_list.groupby(['survived'], as_index = True)"
   ]
  },
  {
   "cell_type": "markdown",
   "metadata": {},
   "source": [
    "<a id='eda'></a>\n",
    "## Exploratory Data Analysis\n",
    "\n",
    "First I take a quick and dirty look at two histograms. The plots are for those that did not survive (first plot) and those that did survive (second plot). Each shows the number of first class passangers (left most), the number of second class passangers (center) and the number of third class passangers (right most)."
   ]
  },
  {
   "cell_type": "code",
   "execution_count": null,
   "metadata": {
    "collapsed": true,
    "scrolled": false
   },
   "outputs": [],
   "source": [
    "ax = titanic_list_fm_group_s.hist(bins=5)\n",
    "ax[0][0][0].set_title('Non-survivors')\n",
    "ax[1][0][0].set_title('Survivors')\n",
    "ax[0][0][0].set_ylabel('Number of Passangers')\n",
    "ax[1][0][0].set_ylabel('Number of Passangers')\n",
    "ax[0][0][0].set_xticks(range(5))\n",
    "ax[0][0][0].set_xticklabels(['', 'first', 'second', 'third', ''])\n",
    "ax[1][0][0].set_xticks(range(5))\n",
    "ax[1][0][0].set_xticklabels(['', 'first', 'second', 'third', '']);"
   ]
  },
  {
   "cell_type": "markdown",
   "metadata": {},
   "source": [
    "Besides the large difference between the number of passanger who died (top plot) versus the number of passangers who survived, you can also see who died versus survived is very skewed. Despite there being fewer first class passangers than second or third class passangers, first class survivors out number second and third class respectively. "
   ]
  },
  {
   "cell_type": "markdown",
   "metadata": {},
   "source": [
    "### Were the Titanic's Lifeboats Underutilized?"
   ]
  },
  {
   "cell_type": "code",
   "execution_count": null,
   "metadata": {
    "collapsed": true
   },
   "outputs": [],
   "source": [
    "# Create a group database\n",
    "titanic_list_fm_group_b = titanic_list.groupby(['boat'], as_index = False)\n",
    "titanic_list_fm_group_p = titanic_list.groupby(['pclass'], as_index = True)\n",
    "titanic_list_fm_group_bp = titanic_list.groupby(['boat', 'pclass'], as_index = True)"
   ]
  },
  {
   "cell_type": "code",
   "execution_count": null,
   "metadata": {
    "collapsed": true
   },
   "outputs": [],
   "source": [
    "# Create a list of the total number of passangers on each lifeboat.\n",
    "titanic_list_fm_group_b_pcount = titanic_list_fm_group_b['pclass'].agg(['count'])\n",
    "titanic_list_fm_group_b_keys = titanic_list_fm_group_b.groups.keys()\n",
    "titanic_list_boat_count = {}\n",
    "for key in titanic_list_fm_group_b_keys:\n",
    "    titanic_list_boat_count[key] = titanic_list_fm_group_b_pcount['count'][key]"
   ]
  },
  {
   "cell_type": "markdown",
   "metadata": {},
   "source": [
    "The max capasity for each type of boat was taken from pages 110 and 112 of:\n",
    "Hutchings, David F.; de Kerbrech, Richard P. (2011). RMS Titanic 1909–12 (Olympic Class): Owners' Workshop Manual. Sparkford, Yeovil: Haynes. "
   ]
  },
  {
   "cell_type": "code",
   "execution_count": null,
   "metadata": {
    "collapsed": true
   },
   "outputs": [],
   "source": [
    "# Create a list of how much space was left on each lifeboat.\n",
    "titanic_list_boat_remaining_capacity = {}\n",
    "for boat in titanic_list_boat_count:\n",
    "    if 'Clinker' in boat:\n",
    "        titanic_list_boat_remaining_capacity[boat] = 65 - titanic_list_boat_count[boat]\n",
    "    elif 'Cutter' in boat:\n",
    "        titanic_list_boat_remaining_capacity[boat] = 40 - titanic_list_boat_count[boat]\n",
    "    elif 'Collapsible' in boat:\n",
    "        titanic_list_boat_remaining_capacity[boat] = 45 - titanic_list_boat_count[boat]"
   ]
  },
  {
   "cell_type": "code",
   "execution_count": null,
   "metadata": {
    "collapsed": true
   },
   "outputs": [],
   "source": [
    "# Create a list of how much space was left on each lifeboat.\n",
    "titanic_list_boat_remaining_capacity = {}\n",
    "for boat in titanic_list_boat_count:\n",
    "    if 'Clinker' in boat:\n",
    "        titanic_list_boat_remaining_capacity[boat] = 65 - titanic_list_boat_count[boat]\n",
    "    elif 'Cutter' in boat:\n",
    "        titanic_list_boat_remaining_capacity[boat] = 40 - titanic_list_boat_count[boat]\n",
    "    elif 'Collapsible' in boat:\n",
    "        titanic_list_boat_remaining_capacity[boat] = 45 - titanic_list_boat_count[boat]"
   ]
  },
  {
   "cell_type": "code",
   "execution_count": null,
   "metadata": {
    "collapsed": true
   },
   "outputs": [],
   "source": [
    "# For each extra space on each lifeboat, I created a new row of data.\n",
    "for boat in titanic_list_boat_remaining_capacity:\n",
    "    for i in range(titanic_list_boat_remaining_capacity[boat]): #counts each extra space on a lifeboat\n",
    "        df = pd.DataFrame([['unused', 1, boat]], columns= ['pclass', 'survived', 'boat']) #creates new row of data\n",
    "        titanic_list = titanic_list.append(df, ignore_index=True) #adds said data to the dataframe"
   ]
  },
  {
   "cell_type": "code",
   "execution_count": null,
   "metadata": {
    "collapsed": true
   },
   "outputs": [],
   "source": [
    "titanic_list = titanic_list.rename(columns = {'boat' : 'Lifeboat', \n",
    "                                              'pclass' : 'Passanger_Class'}) # Cleaning up the table for readablility."
   ]
  },
  {
   "cell_type": "markdown",
   "metadata": {},
   "source": [
    "Before doing a more complicated plot, I wanted to look at who survived and didn't survive as well as how many more could have survied. I now take another quick and dirty look at the data using four histograms. The first three plots are for first class, second class, and third class respectively. Each shows the number of passangers that died (left bar) and the number of passangers that survived (right bar). The last plot shows the number of additional people that could have survived if the lifeboats had been at full capacity."
   ]
  },
  {
   "cell_type": "code",
   "execution_count": null,
   "metadata": {
    "collapsed": true,
    "scrolled": false
   },
   "outputs": [],
   "source": [
    "titanic_list_fm_group_p = titanic_list.groupby(['Passanger_Class'], as_index = True)\n",
    "ax = titanic_list_fm_group_p.hist(bins=3)\n",
    "ax[1][0][0].set_title('First Class Passangers')\n",
    "ax[2][0][0].set_title('Second Class Passangers')\n",
    "ax[3][0][0].set_title('Third Class Passangers')\n",
    "ax['unused'][0][0].set_title('Unused Capacity on Lifeboats')\n"
   ]
  },
  {
   "cell_type": "markdown",
   "metadata": {},
   "source": [
    "As seen in the first two histograms in this notebook, the first three plots of the above four show how being of a higher class greatly increases your chances of survival. The last plot shows that almost 700 more people could have survived if lifeboats were filled to capacity."
   ]
  },
  {
   "cell_type": "markdown",
   "metadata": {},
   "source": [
    "To answer my main question, I want to show the number of people in each lifeboat, what class they were and how many more people could have fit in each lifeboat. However, there are some people that survived but which lifeboat they got on is unknown. They will be reprecented in the first bar."
   ]
  },
  {
   "cell_type": "code",
   "execution_count": 2,
   "metadata": {
    "collapsed": false,
    "scrolled": false
   },
   "outputs": [
    {
     "ename": "NameError",
     "evalue": "name 'titanic_list' is not defined",
     "output_type": "error",
     "traceback": [
      "\u001b[0;31m---------------------------------------------------------------------------\u001b[0m",
      "\u001b[0;31mNameError\u001b[0m                                 Traceback (most recent call last)",
      "\u001b[0;32m<ipython-input-2-8238e0dc2f69>\u001b[0m in \u001b[0;36m<module>\u001b[0;34m()\u001b[0m\n\u001b[1;32m      1\u001b[0m \u001b[1;31m# Creates plot\u001b[0m\u001b[1;33m\u001b[0m\u001b[1;33m\u001b[0m\u001b[0m\n\u001b[0;32m----> 2\u001b[0;31m \u001b[0mtitanic_list_fm_group_bp\u001b[0m \u001b[1;33m=\u001b[0m \u001b[0mtitanic_list\u001b[0m\u001b[1;33m.\u001b[0m\u001b[0mgroupby\u001b[0m\u001b[1;33m(\u001b[0m\u001b[1;33m[\u001b[0m\u001b[1;34m'Lifeboat'\u001b[0m\u001b[1;33m,\u001b[0m \u001b[1;34m'Passanger_Class'\u001b[0m\u001b[1;33m]\u001b[0m\u001b[1;33m,\u001b[0m \u001b[0mas_index\u001b[0m \u001b[1;33m=\u001b[0m \u001b[0mTrue\u001b[0m\u001b[1;33m)\u001b[0m \u001b[1;31m#have to group again\u001b[0m\u001b[1;33m\u001b[0m\u001b[0m\n\u001b[0m\u001b[1;32m      3\u001b[0m                                                                                      \u001b[1;31m#because of previous line.\u001b[0m\u001b[1;33m\u001b[0m\u001b[1;33m\u001b[0m\u001b[0m\n\u001b[1;32m      4\u001b[0m \u001b[1;33m\u001b[0m\u001b[0m\n\u001b[1;32m      5\u001b[0m \u001b[0mtitanic_list_boat_group_pclass_count\u001b[0m \u001b[1;33m=\u001b[0m \u001b[0mtitanic_list_fm_group_bp\u001b[0m\u001b[1;33m.\u001b[0m\u001b[0magg\u001b[0m\u001b[1;33m(\u001b[0m\u001b[1;33m[\u001b[0m\u001b[1;34m'count'\u001b[0m\u001b[1;33m]\u001b[0m\u001b[1;33m)\u001b[0m\u001b[1;33m[\u001b[0m\u001b[1;34m'survived'\u001b[0m\u001b[1;33m]\u001b[0m \u001b[1;31m#counts up survivors from each boat.\u001b[0m\u001b[1;33m\u001b[0m\u001b[0m\n",
      "\u001b[0;31mNameError\u001b[0m: name 'titanic_list' is not defined"
     ]
    }
   ],
   "source": [
    "# Creates plot\n",
    "titanic_list_fm_group_bp = titanic_list.groupby(['Lifeboat', 'Passanger_Class'], as_index = True) #have to group again \n",
    "                                                                                     #because of previous line.\n",
    "\n",
    "titanic_list_boat_group_pclass_count = titanic_list_fm_group_bp.agg(['count'])['survived'] #counts up survivors from each boat.\n",
    "\n",
    "mpl.rcParams['figure.figsize'] = [12.0, 16.0] #increase figure size for readability\n",
    "fig, ax = subplots()\n",
    "\n",
    "titanic_list_boat_group_pclass_count.unstack().plot(kind='barh', color=['y', 'g', 'b', 'r'], stacked=True, ax=ax)\n",
    "ax.set_title('Number of Titanic Survivors of Each Class in Each Lifeboat',fontsize= 25)\n",
    "ax.set_xlabel('Number of Survivors or Potential Survivors', fontsize= 15)\n",
    "ax.xaxis.set_label_position('top' and 'bottom') \n",
    "ax.set_ylabel('Type of Lifeboat and Lifeboat Number or Letter (General Location of Lifeboat)', fontsize= 15)\n",
    "ax.legend(['First class', 'Second class', 'Third class', 'Unused capacity'], \n",
    "          fontsize='x-large', frameon=1, loc='upper left', bbox_to_anchor=(1.0, 1.0));"
   ]
  },
  {
   "cell_type": "markdown",
   "metadata": {},
   "source": [
    "This plot shows the huge waste of unused space. However, I decided that instead at looking at the number of passangers in each boat, looking at the percentage of space used in each boat would look better visually."
   ]
  },
  {
   "cell_type": "code",
   "execution_count": null,
   "metadata": {
    "collapsed": true,
    "scrolled": false
   },
   "outputs": [],
   "source": [
    "# Creates plot\n",
    "mpl.rcParams['figure.figsize'] = [12.0, 16.0] #increase figure size for readability\n",
    "fig, ax = subplots()\n",
    "titanic_list_boat_group_pclass_sum = titanic_list_fm_group_bp.agg(['sum'])['survived']#counts up survivors from each boat.\n",
    "titanic_list_boat_group_pclass_percent = titanic_list_boat_group_pclass_sum.groupby(level=0).apply(lambda x:\n",
    "                                                                                                   100 * x / float(x.sum()))\n",
    "\n",
    "titanic_list_boat_group_pclass_percent.unstack().plot(kind='barh', color=['y', 'g', 'b', 'r'], stacked=True, ax=ax)\n",
    "ax.set_title('Percentange of Lifeboat Used by Survivors',fontsize= 25)\n",
    "ax.set_xlabel('Percentage of Survivors or Potential Survivors', fontsize= 15)\n",
    "ax.xaxis.set_label_position('top' and 'bottom') \n",
    "ax.set_ylabel('Type of Lifeboat and Lifeboat Number or Letter (General Location of Lifeboat)', fontsize= 15)\n",
    "ax.legend(['First class', 'Second class', 'Third class', 'Unused capacity'], \n",
    "          fontsize='x-large', frameon=1, loc='upper left', bbox_to_anchor=(1.0, 1.0));"
   ]
  },
  {
   "cell_type": "markdown",
   "metadata": {},
   "source": [
    "This plot gives a better overall sense of the wasted unused space, as well as the proportion of each class to the other."
   ]
  },
  {
   "cell_type": "markdown",
   "metadata": {},
   "source": [
    "<a id='conclusions'></a>\n",
    "## Conclusions\n",
    "\n",
    "If you take the data at face value, most of the lifeboats were used at less than 50% capacity. Even if you take into account the people that survived but have no data as to how. However, the dataset has some limitations. Looking at random samples from the dataset, I compared the ages of some of the passenger from the original file to data available at encyclopedia-titanica.org. While most matched, some did not. Some of the ages were not at the time of the sinking, but instead of when they died (of old age, disease, accident, etc.) after the sinking. While other survivors' ages were of the time of the sinking, even though they died years later of unrelated issues. This calls into question the entirety of the dataset. Another limitation is that there were a little over eight-hundred crew members on the titanic (Mersey, Lord (1999) [1912]). The Loss of the Titanic, 1912. The Stationery Office). But their data was not included in this dataset. Including their data could affect the results of the plots. \n",
    "\n",
    "I belive that having the above horizontal bar plot overlap a map of the titanic, with each bar being located where the corrisponding lifeboat would be on the map, could be very interesting. I would guess that each class prefered certain lifeboats because of where the lifeboats were located on the ship.\n",
    "\n",
    "In conclusion, I am confident in saying that most of the lifeboats were used at less than 50% capacity. However anything more exact would be beyond the dataset. This is an event that occured over 100 years ago, so it is not unexpected that there are many problems with the dataset. However, there are still many interesting things we can do with the data available. "
   ]
  },
  {
   "cell_type": "code",
   "execution_count": null,
   "metadata": {
    "collapsed": true
   },
   "outputs": [],
   "source": [
    "from subprocess import call\n",
    "call(['python', '-m', 'nbconvert', 'Investigate_a_Dataset.ipynb'])"
   ]
  },
  {
   "cell_type": "code",
   "execution_count": null,
   "metadata": {
    "collapsed": true
   },
   "outputs": [],
   "source": []
  }
 ],
 "metadata": {
  "kernelspec": {
   "display_name": "Python 2",
   "language": "python",
   "name": "python2"
  },
  "language_info": {
   "codemirror_mode": {
    "name": "ipython",
    "version": 2
   },
   "file_extension": ".py",
   "mimetype": "text/x-python",
   "name": "python",
   "nbconvert_exporter": "python",
   "pygments_lexer": "ipython2",
   "version": "2.7.13"
  }
 },
 "nbformat": 4,
 "nbformat_minor": 2
}
